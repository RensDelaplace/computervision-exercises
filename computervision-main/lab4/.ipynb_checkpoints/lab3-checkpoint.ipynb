{
 "cells": [
  {
   "cell_type": "markdown",
   "id": "5ac51ce2-5d78-431c-bb09-44cafdbee2a6",
   "metadata": {},
   "source": [
    "# Computervision Lab 4 - Multi-view geometry"
   ]
  },
  {
   "cell_type": "code",
   "execution_count": 1,
   "id": "4fe1543e-562c-42c6-8a2a-231a60ff899d",
   "metadata": {},
   "outputs": [],
   "source": [
    "# imports\n",
    "import os\n",
    "import glob\n",
    "import cv2\n",
    "import numpy as np\n",
    "import random\n",
    "import matplotlib.pyplot as plt\n",
    "\n",
    "# name printing function\n",
    "def print_name(im, name):\n",
    "\tim = cv2.putText(im, name, (10, im.shape[0]-15), cv2.FONT_HERSHEY_SIMPLEX, 0.5, (255,255,255), 1, cv2.LINE_AA)\n",
    "\treturn im"
   ]
  },
  {
   "cell_type": "code",
   "execution_count": null,
   "id": "1f3445fd-b50c-4979-af55-e7fbdc050b0a",
   "metadata": {},
   "outputs": [],
   "source": [
    "# Save output\n",
    "img = print_name(img, \"Rens Delaplace\")\n",
    "cv2.imwrite(\"out/img.png\", img)"
   ]
  },
  {
   "cell_type": "code",
   "execution_count": null,
   "id": "997c209f-6fa8-4402-b4ab-2facb7c90dfb",
   "metadata": {},
   "outputs": [],
   "source": [
    "https://www.geeksforgeeks.org/python-opencv-epipolar-geometry/\n",
    "\n",
    "https://docs.opencv.org/4.x/da/de9/tutorial_py_epipolar_geometry.html"
   ]
  },
  {
   "cell_type": "markdown",
   "id": "c00cedae-d236-4756-98a6-1cc4e228c4f4",
   "metadata": {
    "tags": []
   },
   "source": [
    "## 1. Epipoles and the fundamental matrix\n",
    "### Exercise 1\n",
    "\n",
    "#### **Assignment 1:** Compute SIFT keypoints (or other features of your choice) and descriptors in both images and match them. Use k nearest neighbor matching and reject ambiguous matches based on Lowe’s ratio test. Show the matches."
   ]
  },
  {
   "cell_type": "markdown",
   "id": "23fa1bc4-dd9f-4728-be80-c90f7905ac1b",
   "metadata": {},
   "source": [
    "#### **Assignment 2:** Estimate the fundamental matrix using findFundamentalMat, compute the epipolar lines for the feature points you used (you can use computeCorrespondEpilines) and draw these onto both images."
   ]
  },
  {
   "cell_type": "markdown",
   "id": "585a90ed-8a45-48c6-8a35-441be459da5d",
   "metadata": {},
   "source": [
    "## 2 The essential matrix\n",
    "### Exercise 2\n",
    "#### **Assignment 3**\n",
    "- Compute the essential matrix from the fundamental matrix you estimated in Assignment 2, using Equation 7 and the matrix above.\n",
    "- Compute the translation and rotation from the essential matrix using decomposeEssentialMat. Print the rotation and translation matrices in your report."
   ]
  },
  {
   "cell_type": "markdown",
   "id": "0f45a4d2-6524-4f28-b3e0-a4fb033cffed",
   "metadata": {},
   "source": [
    "#### **Question 1:** You get two possible rotation matrices, which one do you think is correct? Hint: read Question 3 below.\n",
    "\n",
    "#### **Assignment 4:**\n",
    "- Convert the keypoint coordinates you used in Assignment 2 to normalized coordinates (for both images) by multiplying the inverse camera matrix with them.\n",
    "- Compute the essential matrix by using findFundamentalMat on these normalized points. The resulting matrix is immediately the essential matrix!\n",
    "- Compute the translation and rotation matrices once again with decomposeEssentialMat and print them in your report. They should be close to results from Assignment 3, if not, you have a problem!"
   ]
  },
  {
   "cell_type": "markdown",
   "id": "9390c681-b3de-4822-a414-34c7e2d1c64f",
   "metadata": {},
   "source": [
    "#### **Question 2:** The translation is only up to a scale factor. Does it correspond to your visual assessment of the perspective difference between the shots? Explain.\n",
    "#### **Question 3:** Assuming that this rotation matrix would be a pure rotation along the Y axis (vertical), what would be the approximate angle of the rotation?"
   ]
  }
 ],
 "metadata": {
  "kernelspec": {
   "display_name": "imageclassification",
   "language": "python",
   "name": "imageclassification"
  },
  "language_info": {
   "codemirror_mode": {
    "name": "ipython",
    "version": 3
   },
   "file_extension": ".py",
   "mimetype": "text/x-python",
   "name": "python",
   "nbconvert_exporter": "python",
   "pygments_lexer": "ipython3",
   "version": "3.11.4"
  }
 },
 "nbformat": 4,
 "nbformat_minor": 5
}
